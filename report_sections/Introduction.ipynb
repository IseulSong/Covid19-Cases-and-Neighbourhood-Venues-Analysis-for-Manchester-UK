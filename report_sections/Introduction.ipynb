{
 "cells": [
  {
   "cell_type": "markdown",
   "metadata": {},
   "source": [
    "# Covid-19 Cases and Neighbourhood Venues Analysis for Manchester, UK\n",
    "### Applied Data Science Capstone by IBM/Coursera"
   ]
  },
  {
   "cell_type": "markdown",
   "metadata": {},
   "source": [
    "## Introduction/ Problem"
   ]
  },
  {
   "cell_type": "markdown",
   "metadata": {},
   "source": [
    "Manchester is one of the hotspots of the Covid-19 cases compared to the rest of the UK. The UK Government has tighten social distancing measures in the area to stop the spread of the virus.\n",
    "\n",
    "This project aims to provide understanding of relationship between the number of confirmed Covid-19 cases and neighbourhoods in Manchester. In particular, it will focus on how the infection rates differ by neighbourhoods and their composition of venue types to understand if neighbourhoods which have the majority of a certain type of venues are likely to have higher number of cases. This report will target policy makers and healthcare-sector workers who may be interested in effectiveness of measures to stop the spread of the virus by restraining residents from particular activities."
   ]
  },
  {
   "cell_type": "markdown",
   "metadata": {},
   "source": [
    "## Data"
   ]
  },
  {
   "cell_type": "markdown",
   "metadata": {},
   "source": [
    "To solve the defined problem above, Middle-Layer Super Output Areas (MSOAs) are used as a unit of neighbourhood data. MSOAs are a statistical geography created for the 2011 Census of England and Wales. A typycal population is 7,000-10,000 people. \n",
    "\n",
    "The folloing list of data will be used for a MSOA-level analysis.\n",
    "\n",
    "- Number of Covid-19 confirmed cases by Middle Super Output Area (MSOA) from the Government's Coronavirus webstie;\n",
    "- 2018 Population estimates by MSOA from the National Statistics to calcualte infection rates;\n",
    "- 2011 Population weighted centroid location by MSOA from the ONS Geography Open Data for coordinates of MSOAs;\n",
    "- Neighbourhood names by MSOA from the House of Commons Library MSOA Names;\n",
    "- Forsquare API to get the most common venues of the neighbourhoods in Manchester."
   ]
  },
  {
   "cell_type": "code",
   "execution_count": null,
   "metadata": {},
   "outputs": [],
   "source": []
  }
 ],
 "metadata": {
  "kernelspec": {
   "display_name": "Python 3",
   "language": "python",
   "name": "python3"
  },
  "language_info": {
   "codemirror_mode": {
    "name": "ipython",
    "version": 3
   },
   "file_extension": ".py",
   "mimetype": "text/x-python",
   "name": "python",
   "nbconvert_exporter": "python",
   "pygments_lexer": "ipython3",
   "version": "3.6.5"
  }
 },
 "nbformat": 4,
 "nbformat_minor": 2
}
